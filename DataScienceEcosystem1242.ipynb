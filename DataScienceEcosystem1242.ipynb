{
 "cells": [
  {
   "cell_type": "markdown",
   "id": "2c7f3630-ad25-4054-ab16-fefc93612fa6",
   "metadata": {},
   "source": [
    "# Data Science Tools and Ecosystem\n"
   ]
  },
  {
   "cell_type": "markdown",
   "id": "899eea1b-24ec-4a28-8169-3fd74fd6e9ce",
   "metadata": {},
   "source": [
    "In this notebook, Data Science Tools and Ecosystem are summarized.\n"
   ]
  },
  {
   "cell_type": "markdown",
   "id": "e30ba788-d86f-48e8-a5a0-52fed296ac73",
   "metadata": {},
   "source": [
    "Some of the popular languages that Data Scientists use are:\n",
    "1. Python\n",
    "2. R\n",
    "3. SQL\n",
    "4. Julia\n"
   ]
  },
  {
   "cell_type": "markdown",
   "id": "c77ce926-50b1-4979-aa09-831630ea509a",
   "metadata": {},
   "source": [
    "Some of the commonly used libraries used by Data Scientists include:\n",
    "1. Pandas\n",
    "2. NumPy\n",
    "3. Scikit-learn\n",
    "4. TensorFlow\n"
   ]
  },
  {
   "cell_type": "markdown",
   "id": "a571548a-2aae-47b0-b056-cdbdf7b67d69",
   "metadata": {},
   "source": [
    "| Data Science Tools       |\n",
    "|--------------------------|\n",
    "| Jupyter Notebooks         |\n",
    "| RStudio                   |\n",
    "| Apache Zeppelin           |\n"
   ]
  },
  {
   "cell_type": "markdown",
   "id": "dd8c97ef-c135-4086-8f85-4a72fbaeda40",
   "metadata": {},
   "source": [
    "### Below are a few examples of evaluating arithmetic expressions in Python.\n"
   ]
  },
  {
   "cell_type": "code",
   "execution_count": 1,
   "id": "7ca869c0-7c84-41ff-95d6-182576a3e55b",
   "metadata": {},
   "outputs": [
    {
     "data": {
      "text/plain": [
       "17"
      ]
     },
     "execution_count": 1,
     "metadata": {},
     "output_type": "execute_result"
    }
   ],
   "source": [
    "# This is a simple arithmetic expression to multiply then add integers\n",
    "(3 * 4) + 5\n"
   ]
  },
  {
   "cell_type": "code",
   "execution_count": 2,
   "id": "92347d21-7a7b-4c36-8688-a6bd6e14f957",
   "metadata": {},
   "outputs": [
    {
     "data": {
      "text/plain": [
       "3.3333333333333335"
      ]
     },
     "execution_count": 2,
     "metadata": {},
     "output_type": "execute_result"
    }
   ],
   "source": [
    "# This will convert 200 minutes to hours by dividing by 60\n",
    "200 / 60\n"
   ]
  },
  {
   "cell_type": "markdown",
   "id": "1ce0b2b2-b680-474f-891a-9bb0a7eb7222",
   "metadata": {},
   "source": [
    "**Objectives:**\n",
    "- List popular languages for Data Science.\n",
    "- Explore common Data Science libraries.\n",
    "- Provide examples of evaluating arithmetic expressions in Python.\n",
    "- Convert units between minutes and hours.\n"
   ]
  },
  {
   "cell_type": "markdown",
   "id": "39741ce9-9756-44b2-9c8a-6241c2b2e3a6",
   "metadata": {},
   "source": [
    "## Author\n",
    "Rudra Narayan Pradhan\n"
   ]
  },
  {
   "cell_type": "code",
   "execution_count": null,
   "id": "0707d10d-2867-4986-8f19-49a06e8e661e",
   "metadata": {},
   "outputs": [],
   "source": []
  }
 ],
 "metadata": {
  "kernelspec": {
   "display_name": "Python 3 (ipykernel)",
   "language": "python",
   "name": "python3"
  },
  "language_info": {
   "codemirror_mode": {
    "name": "ipython",
    "version": 3
   },
   "file_extension": ".py",
   "mimetype": "text/x-python",
   "name": "python",
   "nbconvert_exporter": "python",
   "pygments_lexer": "ipython3",
   "version": "3.11.7"
  }
 },
 "nbformat": 4,
 "nbformat_minor": 5
}
